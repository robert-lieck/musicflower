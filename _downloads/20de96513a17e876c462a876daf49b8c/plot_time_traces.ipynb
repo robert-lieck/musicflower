{
  "cells": [
    {
      "cell_type": "markdown",
      "metadata": {},
      "source": [
        "\n# Time Traces\n\nThis example illustrates time traces.\n"
      ]
    },
    {
      "cell_type": "markdown",
      "metadata": {},
      "source": [
        "## Traditional Key Scape Plot\nWe first construct the triangular maps for a traditional key scape plot (with random colours) to illustrate time\ntraces in 2D.\n\nConstruct points and colours as a flat triangle\n\n"
      ]
    },
    {
      "cell_type": "code",
      "execution_count": null,
      "metadata": {
        "collapsed": false
      },
      "outputs": [],
      "source": [
        "import numpy as np\nn = 20\nx = np.concatenate([np.arange(row + 1) - row / 2 for row in range(n)]) / (n - 1) + 0.5\ny = np.zeros_like(x)\nz = np.concatenate([np.ones(row + 1) * (n - 1 - row) for row in range(n)]) / (n - 1)\ncolors = np.random.uniform(0, 1, x.shape + (3,))"
      ]
    },
    {
      "cell_type": "markdown",
      "metadata": {},
      "source": [
        "Plot with time traces\n\n"
      ]
    },
    {
      "cell_type": "code",
      "execution_count": null,
      "metadata": {
        "collapsed": false
      },
      "outputs": [],
      "source": [
        "from musicflower.plotting import create_fig, plot_points, plot_all\n# create figure with axes etc\nfig = create_fig(dark=False, axes_off=False)\n# plot points (a bit larger than default)\nfig.add_trace(plot_points(x=x, y=y, z=z, colors=colors, marker_kwargs=dict(size=1)))\n# plot everything else (time traces are off by default)\nplot_all(x=x, y=y, z=z, colors=colors, fig=fig, do_plot_time_traces=True, do_plot_points=False)\n# adjust view\nfig.update_layout(scene_camera=dict(eye=dict(x=0.2, y=-2, z=0.2), center=dict(x=0, y=0, z=0)))\nfig"
      ]
    },
    {
      "cell_type": "markdown",
      "metadata": {},
      "source": [
        "## 3D Space\nThis surface may be embedded in 3D space in a different way, but the time traces still work the same way.\n\n"
      ]
    },
    {
      "cell_type": "code",
      "execution_count": null,
      "metadata": {
        "collapsed": false
      },
      "outputs": [],
      "source": [
        "x_ = np.cos(10 * x) * (x + z ** 2)\ny_ = np.sin(10 * x) * (x + z ** 2)\nz_ = z\nplot_all(x=x_, y=y_, z=z_, colors=colors, do_plot_time_traces=True)"
      ]
    }
  ],
  "metadata": {
    "kernelspec": {
      "display_name": "Python 3",
      "language": "python",
      "name": "python3"
    },
    "language_info": {
      "codemirror_mode": {
        "name": "ipython",
        "version": 3
      },
      "file_extension": ".py",
      "mimetype": "text/x-python",
      "name": "python",
      "nbconvert_exporter": "python",
      "pygments_lexer": "ipython3",
      "version": "3.10.17"
    }
  },
  "nbformat": 4,
  "nbformat_minor": 0
}