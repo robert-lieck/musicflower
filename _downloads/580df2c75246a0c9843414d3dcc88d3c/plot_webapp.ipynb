{
  "cells": [
    {
      "cell_type": "markdown",
      "metadata": {},
      "source": [
        "\n# Web App Example\n\nThis is a basic example for creating a MusicFlower web app with a custom visualiser.\n"
      ]
    },
    {
      "cell_type": "markdown",
      "metadata": {},
      "source": [
        "## Custom Visualiser\n\nCreating a web app with a custom visualiser is as easy as defining a single callback function\n\n"
      ]
    },
    {
      "cell_type": "code",
      "execution_count": null,
      "metadata": {
        "collapsed": false
      },
      "outputs": [],
      "source": [
        "import plotly.graph_objects as go\n\ndef my_custom_visualiser(*, features, position, **kwargs):\n    return go.Figure(data=[go.Bar(\n        y=features[0][round(position * (len(features[0]) - 1))]\n    )])"
      ]
    },
    {
      "cell_type": "markdown",
      "metadata": {},
      "source": [
        "We can now register this function as a visualiser and start up the web app\n\n"
      ]
    },
    {
      "cell_type": "code",
      "execution_count": null,
      "metadata": {
        "collapsed": false
      },
      "outputs": [],
      "source": [
        "from musicflower.webapp import WebApp\n\nWebApp() \\\n    .use_chroma_features() \\\n    .register_visualiser('Chroma Bars', ['chroma-features'], my_custom_visualiser) \\\n    .init() \\\n    # .run()  # (uncomment this line!)"
      ]
    },
    {
      "cell_type": "markdown",
      "metadata": {},
      "source": [
        "A slightly more elaborate version of the visualiser would be as follows\n\n"
      ]
    },
    {
      "cell_type": "code",
      "execution_count": null,
      "metadata": {
        "collapsed": false
      },
      "outputs": [],
      "source": [
        "from pitchtypes import EnharmonicPitchClass\n\ndef my_custom_visualiser(*, features, position, **kwargs):\n    features = WebApp.check_features(features)\n    position = WebApp.position_idx(position, features=features)\n    data = features[position]\n    fig = go.Figure(data=[go.Bar(\n        x=[str(EnharmonicPitchClass(i)) for i in range(12)],\n        y=data\n    )])\n    fig.update_yaxes(range=[0, 1])\n    return WebApp.update_figure_layout(fig)"
      ]
    },
    {
      "cell_type": "markdown",
      "metadata": {},
      "source": [
        "And the app can be set up with additional parameters\n\n"
      ]
    },
    {
      "cell_type": "code",
      "execution_count": null,
      "metadata": {
        "collapsed": false
      },
      "outputs": [],
      "source": [
        "app = WebApp(verbose=True)  # print information about callbacks\napp.use_chroma_features(200)  # maximum time resolution\napp.register_visualiser('Chroma Bars', ['chroma-features'], my_custom_visualiser)\napp.init(\n    figure_height=500,  # specify figure dimensions\n    # audio_file=\"/path/to/initial/audio/file.mp3\",  # audio file to load at start up\n)\n# app.run(debug=True)  # run app in debug mode (uncomment this line!)"
      ]
    }
  ],
  "metadata": {
    "kernelspec": {
      "display_name": "Python 3",
      "language": "python",
      "name": "python3"
    },
    "language_info": {
      "codemirror_mode": {
        "name": "ipython",
        "version": 3
      },
      "file_extension": ".py",
      "mimetype": "text/x-python",
      "name": "python",
      "nbconvert_exporter": "python",
      "pygments_lexer": "ipython3",
      "version": "3.10.17"
    }
  },
  "nbformat": 4,
  "nbformat_minor": 0
}