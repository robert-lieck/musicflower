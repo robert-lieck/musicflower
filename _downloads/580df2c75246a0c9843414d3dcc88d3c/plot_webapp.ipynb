{
  "cells": [
    {
      "cell_type": "markdown",
      "metadata": {},
      "source": [
        "\n# WebApp Example\n\nThis is a basic example for creating a MusicFlower web app with a custom visualiser.\n"
      ]
    },
    {
      "cell_type": "markdown",
      "metadata": {},
      "source": [
        "## Default Version\n\nThe default version of the web app, which you can run with `python -m musicflower`, uses the following startup script\n\n"
      ]
    },
    {
      "cell_type": "code",
      "execution_count": null,
      "metadata": {
        "collapsed": false
      },
      "outputs": [],
      "source": [
        "from musicflower.webapp import WebApp\nimport musicflower.features as f\nimport musicflower.visualisers as v\n\napp = WebApp(verbose=True)                      # print additional info about registered features, callbacks etc.\nf.use_chroma_features(app, n=200)               # max temporal resolution of 200\nv.use_fourier_visualiser(app)                   # register visualiser and required features\nv.use_keyscape_visualiser(app)                  # ...\nv.use_tonnetz_visualiser(app)                   # ...\nv.use_spectral_dome_visualiser(app)             # ...\napp.init(figure_width=1500, figure_height=800)  # larger figures\n# app.run()                                     # start up the web app (uncomment to actually run!)"
      ]
    },
    {
      "cell_type": "markdown",
      "metadata": {},
      "source": [
        "The `use_...` functions are convenience functions for features and visualisers to automatically register the\nrequired dependencies. A more explicit version of the startup script would look like this\n\n"
      ]
    },
    {
      "cell_type": "code",
      "execution_count": null,
      "metadata": {
        "collapsed": false
      },
      "outputs": [],
      "source": [
        "app = WebApp(verbose=True)\n\n# define a downsampled version of chroma features using feature remappers\ndef chroma_features_n(*, audio, app, n=200):\n    cf = f.chroma_features(audio=audio, app=app, normalised=False)\n    cf = f.downsampler(features=[cf], app=app, n=n)\n    cf = f.normaliser(features=[cf], app=app)\n    return cf\n\n# features\napp.register_feature_extractor(name='chroma-features',\n                               func=chroma_features_n)\napp.register_feature_remapper(remapper_name='fourier-features',\n                              feature_names=['chroma-features'],\n                              func=f.fourier_features)\napp.register_feature_remapper(remapper_name='chroma-scape-features',\n                              feature_names=['chroma-features'],\n                              func=f.chroma_scape_features)\napp.register_feature_remapper(remapper_name='fourier-scape-features',\n                              feature_names=['chroma-scape-features'],\n                              func=f.fourier_features)\n\n# visualisers\napp.register_visualiser(visualiser_name='Fourier Coefficients',\n                        feature_names=['fourier-features'],\n                        func=v.fourier_visualiser)\napp.register_visualiser(visualiser_name='Keyscape',\n                        feature_names=['fourier-scape-features',\n                                       'chroma-scape-features'],\n                        func=v.keyscape_visualiser)\napp.register_visualiser(visualiser_name='Tonnetz',\n                        feature_names=['chroma-features'],\n                        func=v.tonnetz_visualiser)\napp.register_visualiser(visualiser_name='Spectral Dome',\n                        feature_names=['fourier-scape-features',\n                                       'chroma-scape-features'],\n                        func=v.spectral_dome_visualiser)\n\napp.init(figure_width=1500, figure_height=800)\n# app.run()  # uncomment to actually run"
      ]
    },
    {
      "cell_type": "markdown",
      "metadata": {},
      "source": [
        "## Custom Visualiser\n\nCreating your own a web app with a custom visualiser is as easy as defining a single callback function\n\n"
      ]
    },
    {
      "cell_type": "code",
      "execution_count": null,
      "metadata": {
        "collapsed": false
      },
      "outputs": [],
      "source": [
        "import plotly.graph_objects as go\n\ndef my_custom_visualiser(*, features, position, **kwargs):\n    return go.Figure(data=[go.Bar(\n        y=features[0][round(position * (len(features[0]) - 1))]\n    )])"
      ]
    },
    {
      "cell_type": "markdown",
      "metadata": {},
      "source": [
        "We can now register this function as a visualiser and start up the web app with some additional parameters to\nfacilitate debugging\n\n"
      ]
    },
    {
      "cell_type": "code",
      "execution_count": null,
      "metadata": {
        "collapsed": false
      },
      "outputs": [],
      "source": [
        "from musicflower.webapp import WebApp\n\napp = WebApp(verbose=True)\nf.use_chroma_features(app)\napp.register_visualiser('Chroma Bars', ['chroma-features'], my_custom_visualiser)\napp.init(\n    # audio_file=\"/path/to/audio/file.mp3\"  # automatically pre-loading an audio file can be convenient for debugging\n)\n# app.run(debug=True)  # run the app in debug mode to see exceptions raised in callback functions"
      ]
    },
    {
      "cell_type": "markdown",
      "metadata": {},
      "source": [
        "A slightly more elaborate version of the visualiser could look as follows\n\n"
      ]
    },
    {
      "cell_type": "code",
      "execution_count": null,
      "metadata": {
        "collapsed": false
      },
      "outputs": [],
      "source": [
        "from pitchtypes import EnharmonicPitchClass\n\ndef my_custom_visualiser(*, features, position, app=WebApp, **kwargs):\n    features = app.check_features(features)\n    position = app.position_idx(position, features=features)\n    data = features[position]\n    fig = go.Figure(data=[go.Bar(\n        x=[str(EnharmonicPitchClass(i)) for i in range(12)],\n        y=data\n    )])\n    fig.update_yaxes(range=[0, 1])\n    return app.update_figure_layout(fig)\n\n\napp = WebApp(verbose=True)\nf.use_chroma_features(app, 200)\napp.register_visualiser('Chroma Bars', ['chroma-features'], my_custom_visualiser)\napp.init()\n# app.run(debug=True)"
      ]
    }
  ],
  "metadata": {
    "kernelspec": {
      "display_name": "Python 3",
      "language": "python",
      "name": "python3"
    },
    "language_info": {
      "codemirror_mode": {
        "name": "ipython",
        "version": 3
      },
      "file_extension": ".py",
      "mimetype": "text/x-python",
      "name": "python",
      "nbconvert_exporter": "python",
      "pygments_lexer": "ipython3",
      "version": "3.10.18"
    }
  },
  "nbformat": 4,
  "nbformat_minor": 0
}