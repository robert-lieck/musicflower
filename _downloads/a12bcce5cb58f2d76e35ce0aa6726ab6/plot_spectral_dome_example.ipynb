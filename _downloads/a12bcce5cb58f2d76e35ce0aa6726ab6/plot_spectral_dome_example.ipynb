{
  "cells": [
    {
      "cell_type": "markdown",
      "metadata": {},
      "source": [
        "\n# Spectral Dome: Stand-Alone Example\n\nThis shows how the spectral dome visualisation can be used independently of the web app and also with symbolic data.\n"
      ]
    },
    {
      "cell_type": "markdown",
      "metadata": {},
      "source": [
        "## Basic Example\n\nThe :func:`~musicflower.loader.load_file` function can be used to get chroma scape features independently of the\nweb app (here, we are using a MusicXML file as it is small enough to ship with the documentation). The feature\nremappers and visualisers can be used as stand-alone functions\n\n"
      ]
    },
    {
      "cell_type": "code",
      "execution_count": null,
      "metadata": {
        "collapsed": false
      },
      "outputs": [],
      "source": [
        "from musicflower.loader import load_file\nfrom musicflower.features import fourier_features\nfrom musicflower.visualisers import spectral_dome_visualiser\n\n# path to file\nfile_path = 'Prelude_No._1_BWV_846_in_C_Major.mxl'  # could also be audio file\n# split piece into this many equal-sized time intervals\nresolution = 200\n# get chroma and fourier scape features\nchroma_scape_features = load_file(data=file_path, n=resolution)\nfourier_scape_features = fourier_features(features=[chroma_scape_features])\n# visualise piece\nspectral_dome_visualiser(features=[fourier_scape_features, chroma_scape_features], position=0)"
      ]
    },
    {
      "cell_type": "markdown",
      "metadata": {},
      "source": [
        "## Loading Multiple Files\n\nThe output of the `load_file` function is an array with pitch-class distributions (PCDs), stored in a triangular\nmap (see :doc:`plot_triangular_maps`). You can load multiple pieces using the\n:func:`~musicflower.loader.load_corpus` function\n\n"
      ]
    },
    {
      "cell_type": "code",
      "execution_count": null,
      "metadata": {
        "collapsed": false
      },
      "outputs": [],
      "source": [
        "from musicflower.loader import load_corpus\ncorpus, files = load_corpus(data=[file_path, file_path], n=resolution)\nprint(corpus.shape)"
      ]
    },
    {
      "cell_type": "markdown",
      "metadata": {},
      "source": [
        "The resulting array has the different pieces as its first dimension, the (flattened) scape as second,\nand the pitch classes (chroma values) as third. Since we have loaded the same pieces twice, we will transpose one\nversion by a semitone to fake a different second piece\n\n"
      ]
    },
    {
      "cell_type": "code",
      "execution_count": null,
      "metadata": {
        "collapsed": false
      },
      "outputs": [],
      "source": [
        "import numpy as np\ncorpus[1] = np.roll(corpus[1], shift=1, axis=-1)"
      ]
    },
    {
      "cell_type": "markdown",
      "metadata": {},
      "source": [
        "## Key Scape Plots\nPitch scapes can be visualised in traditional key scape plots, which are the basis for the 3D visualisation provided\nby the MusicFlower package.\n\n"
      ]
    },
    {
      "cell_type": "code",
      "execution_count": null,
      "metadata": {
        "collapsed": false
      },
      "outputs": [],
      "source": [
        "from musicflower.plotting import plot_key_scape\nplot_key_scape(corpus)"
      ]
    },
    {
      "cell_type": "markdown",
      "metadata": {},
      "source": [
        "More functionality, such as a legend for the used colours, is available via the\n[PitchScapes](https://robert-lieck.github.io/pitchscapes/) library\n\n"
      ]
    },
    {
      "cell_type": "code",
      "execution_count": null,
      "metadata": {
        "collapsed": false
      },
      "outputs": [],
      "source": [
        "import pitchscapes.plotting as pt\n_ = pt.key_legend()"
      ]
    },
    {
      "cell_type": "markdown",
      "metadata": {},
      "source": [
        "## Colour\nThe :func:`~musicflower.plotting.key_colors` function can be used to get the corresponding triangular map of colours\nas RGB in [0, 1]. These are computed by matching each PCD against templates for the 12 major and 12 minor keys and\nthen interpolating between the respective colours shown in the legend above.\n\n"
      ]
    },
    {
      "cell_type": "code",
      "execution_count": null,
      "metadata": {
        "collapsed": false
      },
      "outputs": [],
      "source": [
        "from musicflower.plotting import key_colors\ncolors = key_colors(corpus)\nprint(colors.shape)"
      ]
    },
    {
      "cell_type": "markdown",
      "metadata": {},
      "source": [
        "## Mapping to Fourier Space\nThe discrete Fourier transform of a PCD contains musically relevant information. In particular, the 5th coefficient\nis strongest for distributions that correspond to diatonic scales and can therefore be associated to the tonality of a\npiece: its amplitude indicates how \"strongly tonal\" the piece is (e.g. atonal/12-tone pieces have a low amplitude);\nits phase maps to the circle of fifths. The :func:`~musicflower.util.get_fourier_component` function provides\namplitudes and phases of an array of PCDs\n\n"
      ]
    },
    {
      "cell_type": "code",
      "execution_count": null,
      "metadata": {
        "collapsed": false
      },
      "outputs": [],
      "source": [
        "from musicflower.util import get_fourier_component\namplitude, phase = get_fourier_component(pcds=corpus, fourier_component=5)"
      ]
    },
    {
      "cell_type": "markdown",
      "metadata": {},
      "source": [
        "## Mapping to 3D Space\nThe *amplitude* and *phase* of the Fourier component provide polar coordinates for each of the PCDs. (The phase also\nstrongly correlates with the colours, even though they were computed using template matching, not Fourier components.)\nIn the key scape plot above, we have two other dimensions for each PCD: *time* on the horizontal axis and the\n*duration* on the vertical axis (i.e. center and width of the respective section of the piece). Together, this can be\nused to map each PCD to a point in 3D space as follows.\n\nWe use spherical or cylindrical coordinates with the *phase* as the azimuthal/horizontal angle, the *duration*\nfor the radial component, and the *amplitude* for the vertical component/angle (cylinder/sphere). This is done\nby the :func:`~musicflower.util.remap_to_xyz` function, which also provides some additional tweaks (see its\ndocumentation for details). Note that *time* is not explicitly represented anymore, but can be included through\ninteractive animations (see below).\n\n"
      ]
    },
    {
      "cell_type": "code",
      "execution_count": null,
      "metadata": {
        "collapsed": false
      },
      "outputs": [],
      "source": [
        "from musicflower.util import remap_to_xyz\nx, y, z = remap_to_xyz(amplitude=amplitude, phase=phase)"
      ]
    },
    {
      "cell_type": "markdown",
      "metadata": {},
      "source": [
        "## 3D Plot\nThis can be visualised in a 3D plot as follows\n\n"
      ]
    },
    {
      "cell_type": "code",
      "execution_count": null,
      "metadata": {
        "collapsed": false
      },
      "outputs": [],
      "source": [
        "from musicflower.plotting import plot_all\nplot_all(x=x, y=y, z=z, colors=colors)"
      ]
    },
    {
      "cell_type": "markdown",
      "metadata": {},
      "source": [
        "## Time as Animation\nWe can add the time dimension using an interactive slider and/or animation. The slider represents time in a normalised\n[0, 1] interval over the piece duration. When moving the slider, a line is drawn from the top, through the triangular\nmap to the point at the bottom corresponding to the current slider position. In the normal key scape plot from above,\nthis would simply be a straight line from the top down to the bottom; in the 3D plot it winds through tonal space\n(also see :doc:`plot_time_traces`).\n\n"
      ]
    },
    {
      "cell_type": "code",
      "execution_count": null,
      "metadata": {
        "collapsed": false
      },
      "outputs": [],
      "source": [
        "plot_all(x=x, y=y, z=z, colors=colors, do_plot_time_traces=True)"
      ]
    }
  ],
  "metadata": {
    "kernelspec": {
      "display_name": "Python 3",
      "language": "python",
      "name": "python3"
    },
    "language_info": {
      "codemirror_mode": {
        "name": "ipython",
        "version": 3
      },
      "file_extension": ".py",
      "mimetype": "text/x-python",
      "name": "python",
      "nbconvert_exporter": "python",
      "pygments_lexer": "ipython3",
      "version": "3.10.17"
    }
  },
  "nbformat": 4,
  "nbformat_minor": 0
}