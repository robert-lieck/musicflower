{
  "cells": [
    {
      "cell_type": "markdown",
      "metadata": {},
      "source": [
        "\n# Triangular Maps\n"
      ]
    },
    {
      "cell_type": "markdown",
      "metadata": {},
      "source": [
        "The array returned by :func:`~musicflower.loader.load_file` contains the triangular map of pitch-class distributions.\nTo use NumPy's efficient linear storage, it is flattened by starting at the top and then going row by row, thus, it\ncontains a total number of $n(n+1)/2$ pitch-class distributions.\n\n"
      ]
    },
    {
      "cell_type": "code",
      "execution_count": null,
      "metadata": {
        "collapsed": false
      },
      "outputs": [],
      "source": [
        "from musicflower.loader import load_file\nresolution = 10\nscape = load_file(data='Prelude_No._1_BWV_846_in_C_Major.mxl', n=resolution)\nprint(scape.shape)\nprint(resolution * (resolution + 1) / 2)"
      ]
    },
    {
      "cell_type": "markdown",
      "metadata": {},
      "source": [
        "To handle this kind of flattened triangular maps, the :class:`~triangularmap.tmap.TMap` class from the\n[TriangularMap](https://github.com/robert-lieck/triangularmap) package can be used. It takes\na linear storage and allows for efficiently accessing its content as if it was a triangular map (see the\n[TriangularMap documentation](https://robert-lieck.github.io/triangularmap/) for more details).\nFor multidimensional arrays, the first dimension is assumed to represent the triangular map.\n\n"
      ]
    },
    {
      "cell_type": "code",
      "execution_count": null,
      "metadata": {
        "collapsed": false
      },
      "outputs": [],
      "source": [
        "from triangularmap import TMap\nimport numpy as np\ntmap = TMap(np.arange(6))\nprint(tmap.pretty())"
      ]
    },
    {
      "cell_type": "markdown",
      "metadata": {},
      "source": [
        "The functionalities include slicing at a specific level/depth (this returns *views* of the underlying storage)\n\n"
      ]
    },
    {
      "cell_type": "code",
      "execution_count": null,
      "metadata": {
        "collapsed": false
      },
      "outputs": [],
      "source": [
        "print(tmap.dslice[0])  # depth starts a 0 from the top\nprint(tmap.lslice[1])  # levels start at 1 from the bottom"
      ]
    },
    {
      "cell_type": "markdown",
      "metadata": {},
      "source": [
        "and slicing \"skewed columns\" for a specific start/end index (this returns *copies* of the underlying storage, note the\ndifferent syntax using square brackets), which always run left-to-right (i.e. bottom-up for start-slices, top-down for\nend-slices)\n\n\n"
      ]
    },
    {
      "cell_type": "code",
      "execution_count": null,
      "metadata": {
        "collapsed": false
      },
      "outputs": [],
      "source": [
        "print(tmap.sslice[0])  # start indices run from 0 to n - 1\nprint(tmap.eslice[3])  # end indices run from 1 to n"
      ]
    }
  ],
  "metadata": {
    "kernelspec": {
      "display_name": "Python 3",
      "language": "python",
      "name": "python3"
    },
    "language_info": {
      "codemirror_mode": {
        "name": "ipython",
        "version": 3
      },
      "file_extension": ".py",
      "mimetype": "text/x-python",
      "name": "python",
      "nbconvert_exporter": "python",
      "pygments_lexer": "ipython3",
      "version": "3.10.18"
    }
  },
  "nbformat": 4,
  "nbformat_minor": 0
}